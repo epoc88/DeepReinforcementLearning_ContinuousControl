{
 "cells": [
  {
   "cell_type": "markdown",
   "metadata": {},
   "source": [
    "# Continuous Control\n",
    "\n",
    "---\n",
    "\n",
    "In this notebook, you will learn how to use the Unity ML-Agents environment for the second project of the [Deep Reinforcement Learning Nanodegree](https://www.udacity.com/course/deep-reinforcement-learning-nanodegree--nd893) program.\n",
    "\n",
    "### 1. Start the Environment\n",
    "\n",
    "We begin by importing the necessary packages.  If the code cell below returns an error, please revisit the project instructions to double-check that you have installed [Unity ML-Agents](https://github.com/Unity-Technologies/ml-agents/blob/master/docs/Installation.md) and [NumPy](http://www.numpy.org/)."
   ]
  },
  {
   "cell_type": "code",
   "execution_count": 1,
   "metadata": {},
   "outputs": [],
   "source": [
    "from unityagents import UnityEnvironment\n",
    "import numpy as np\n",
    "from collections import deque\n",
    "\n",
    "import matplotlib.pyplot as plt\n",
    "%matplotlib inline\n",
    "\n",
    "#ddpg agent\n",
    "from ddpg_agent import Agent"
   ]
  },
  {
   "cell_type": "code",
   "execution_count": 2,
   "metadata": {},
   "outputs": [],
   "source": [
    "import torch\n",
    "#device = torch.device(\"cuda:0\" if torch.cuda.is_available() else \"cpu\")"
   ]
  },
  {
   "cell_type": "markdown",
   "metadata": {},
   "source": [
    "Environment 2, 20 agents"
   ]
  },
  {
   "cell_type": "code",
   "execution_count": 3,
   "metadata": {
    "scrolled": true
   },
   "outputs": [
    {
     "name": "stderr",
     "output_type": "stream",
     "text": [
      "INFO:unityagents:\n",
      "'Academy' started successfully!\n",
      "Unity Academy name: Academy\n",
      "        Number of Brains: 1\n",
      "        Number of External Brains : 1\n",
      "        Lesson number : 0\n",
      "        Reset Parameters :\n",
      "\t\tgoal_speed -> 1.0\n",
      "\t\tgoal_size -> 5.0\n",
      "Unity brain name: ReacherBrain\n",
      "        Number of Visual Observations (per agent): 0\n",
      "        Vector Observation space type: continuous\n",
      "        Vector Observation space size (per agent): 33\n",
      "        Number of stacked Vector Observation: 1\n",
      "        Vector Action space type: continuous\n",
      "        Vector Action space size (per agent): 4\n",
      "        Vector Action descriptions: , , , \n"
     ]
    }
   ],
   "source": [
    "env = UnityEnvironment(file_name='../../Reacher_Linux/Reacher.x86_64')"
   ]
  },
  {
   "cell_type": "code",
   "execution_count": 4,
   "metadata": {},
   "outputs": [],
   "source": [
    "# get the default brain\n",
    "brain_name = env.brain_names[0]\n",
    "brain = env.brains[brain_name]"
   ]
  },
  {
   "cell_type": "code",
   "execution_count": 5,
   "metadata": {},
   "outputs": [
    {
     "name": "stdout",
     "output_type": "stream",
     "text": [
      "Number of agents: 20\n",
      "Size of each action: 4\n",
      "There are 20 agents. Each observes a state with length: 33\n",
      "The state for the first agent looks like: [ 0.00000000e+00 -4.00000000e+00  0.00000000e+00  1.00000000e+00\n",
      " -0.00000000e+00 -0.00000000e+00 -4.37113883e-08  0.00000000e+00\n",
      "  0.00000000e+00  0.00000000e+00  0.00000000e+00  0.00000000e+00\n",
      "  0.00000000e+00  0.00000000e+00 -1.00000000e+01  0.00000000e+00\n",
      "  1.00000000e+00 -0.00000000e+00 -0.00000000e+00 -4.37113883e-08\n",
      "  0.00000000e+00  0.00000000e+00  0.00000000e+00  0.00000000e+00\n",
      "  0.00000000e+00  0.00000000e+00  5.75471878e+00 -1.00000000e+00\n",
      "  5.55726624e+00  0.00000000e+00  1.00000000e+00  0.00000000e+00\n",
      " -1.68164849e-01]\n"
     ]
    }
   ],
   "source": [
    "# reset the environment\n",
    "env_info = env.reset(train_mode=True)[brain_name]\n",
    "\n",
    "# number of agents\n",
    "num_agents = len(env_info.agents)\n",
    "print('Number of agents:', num_agents)\n",
    "\n",
    "# size of each action\n",
    "action_size = brain.vector_action_space_size\n",
    "print('Size of each action:', action_size)\n",
    "\n",
    "# examine the state space \n",
    "states = env_info.vector_observations\n",
    "state_size = states.shape[1]\n",
    "print('There are {} agents. Each observes a state with length: {}'.format(states.shape[0], state_size))\n",
    "print('The state for the first agent looks like:', states[0])"
   ]
  },
  {
   "cell_type": "code",
   "execution_count": 6,
   "metadata": {},
   "outputs": [],
   "source": [
    "def ddpg(episodes=500, max_t=1000, window=100):\n",
    "    agent = Agent(state_size=state_size, action_size=action_size, random_seed=1)\n",
    "    \n",
    "    scores_window = deque(maxlen = window)\n",
    "    scores_all = []\n",
    "    actor_losses = []\n",
    "    critic_losses = []\n",
    "    mean_scores_over_agents = []\n",
    "    \n",
    "    decay_lr_episodes = 10\n",
    "    for i in range(1, episodes+1):\n",
    "        env_info = env.reset(train_mode=True)[brain_name]\n",
    "        states = env_info.vector_observations\n",
    "        scores = np.zeros(num_agents)                          # initialize the score (for each agent)\n",
    "        agent.reset()\n",
    "        for t in range(max_t):\n",
    "            actions = agent.act(states)\n",
    "            env_info = env.step(actions)[brain_name]           # send all actions to tne environment\n",
    "            next_states = env_info.vector_observations         # get next state (for each agent)\n",
    "            rewards = env_info.rewards                         # get reward (for each agent)\n",
    "            dones = env_info.local_done                        # see if episode finished\n",
    "            scores += env_info.rewards                         # update the score (for each agent)\n",
    "            for state,action,reward,next_state,done in zip(states,actions,rewards,next_states,dones):\n",
    "                agent.step(state,action,reward,next_state,done,t)\n",
    "            states = next_states                               # roll over states to next time step\n",
    "            if np.any(dones):                                  # exit loop if episode finished\n",
    "                break\n",
    "\n",
    "        scores_all.append(scores)\n",
    "        scores_window.append(np.mean(scores))   \n",
    "        average_score = np.mean(scores_window) \n",
    "\n",
    "        print('Episode: {}\\tScore average: {:.2f}\\tepisode max: {:.2f}'.format(i, average_score, np.max(scores)))\n",
    "        if average_score >= 30.0:\n",
    "            print('\\rTarget score reached in Episode: {}\\t average score:{:.2f}'.format(i+1, average_score))\n",
    "            torch.save(agent.actor_local.state_dict(), \"07May_actor.pt\")\n",
    "            torch.save(agent.critic_local.state_dict(), \"07May_critic.pt\")\n",
    "            break\n",
    "            \n",
    "    return scores_all, scores_window"
   ]
  },
  {
   "cell_type": "markdown",
   "metadata": {},
   "source": [
    "## Train Reacher environment 2 - 20 agents"
   ]
  },
  {
   "cell_type": "code",
   "execution_count": 7,
   "metadata": {},
   "outputs": [
    {
     "name": "stdout",
     "output_type": "stream",
     "text": [
      "Episode: 1\tScore average: 0.97\tepisode max: 3.12\n",
      "Episode: 2\tScore average: 1.24\tepisode max: 2.40\n",
      "Episode: 3\tScore average: 1.55\tepisode max: 4.31\n",
      "Episode: 4\tScore average: 1.78\tepisode max: 4.16\n",
      "Episode: 5\tScore average: 1.98\tepisode max: 4.14\n",
      "Episode: 6\tScore average: 2.16\tepisode max: 5.59\n",
      "Episode: 7\tScore average: 2.24\tepisode max: 4.66\n",
      "Episode: 8\tScore average: 2.32\tepisode max: 5.35\n",
      "Episode: 9\tScore average: 2.46\tepisode max: 6.40\n",
      "Episode: 10\tScore average: 2.80\tepisode max: 8.39\n",
      "Episode: 11\tScore average: 3.11\tepisode max: 8.67\n",
      "Episode: 12\tScore average: 3.37\tepisode max: 8.72\n",
      "Episode: 13\tScore average: 3.65\tepisode max: 10.93\n",
      "Episode: 14\tScore average: 3.97\tepisode max: 11.75\n",
      "Episode: 15\tScore average: 4.26\tepisode max: 10.53\n",
      "Episode: 16\tScore average: 4.57\tepisode max: 13.20\n",
      "Episode: 17\tScore average: 4.92\tepisode max: 19.61\n",
      "Episode: 18\tScore average: 5.28\tepisode max: 16.41\n",
      "Episode: 19\tScore average: 5.63\tepisode max: 16.43\n",
      "Episode: 20\tScore average: 5.98\tepisode max: 17.73\n",
      "Episode: 21\tScore average: 6.43\tepisode max: 24.59\n",
      "Episode: 22\tScore average: 6.93\tepisode max: 22.93\n",
      "Episode: 23\tScore average: 7.42\tepisode max: 29.87\n",
      "Episode: 24\tScore average: 7.87\tepisode max: 22.63\n",
      "Episode: 25\tScore average: 8.25\tepisode max: 25.06\n",
      "Episode: 26\tScore average: 8.63\tepisode max: 24.87\n",
      "Episode: 27\tScore average: 9.00\tepisode max: 31.40\n",
      "Episode: 28\tScore average: 9.42\tepisode max: 30.98\n",
      "Episode: 29\tScore average: 9.80\tepisode max: 25.68\n",
      "Episode: 30\tScore average: 10.10\tepisode max: 32.02\n",
      "Episode: 31\tScore average: 10.40\tepisode max: 31.06\n",
      "Episode: 32\tScore average: 10.85\tepisode max: 35.02\n",
      "Episode: 33\tScore average: 11.35\tepisode max: 34.82\n",
      "Episode: 34\tScore average: 11.80\tepisode max: 33.86\n",
      "Episode: 35\tScore average: 12.29\tepisode max: 34.66\n",
      "Episode: 36\tScore average: 12.75\tepisode max: 35.13\n",
      "Episode: 37\tScore average: 13.28\tepisode max: 39.05\n",
      "Episode: 38\tScore average: 13.83\tepisode max: 38.90\n",
      "Episode: 39\tScore average: 14.39\tepisode max: 38.28\n",
      "Episode: 40\tScore average: 14.93\tepisode max: 39.43\n",
      "Episode: 41\tScore average: 15.42\tepisode max: 38.17\n",
      "Episode: 42\tScore average: 15.89\tepisode max: 38.57\n",
      "Episode: 43\tScore average: 16.39\tepisode max: 39.53\n",
      "Episode: 44\tScore average: 16.85\tepisode max: 39.06\n",
      "Episode: 45\tScore average: 17.30\tepisode max: 39.20\n",
      "Episode: 46\tScore average: 17.76\tepisode max: 39.55\n",
      "Episode: 47\tScore average: 18.18\tepisode max: 39.58\n",
      "Episode: 48\tScore average: 18.59\tepisode max: 39.63\n",
      "Episode: 49\tScore average: 18.99\tepisode max: 39.61\n",
      "Episode: 50\tScore average: 19.38\tepisode max: 39.54\n",
      "Episode: 51\tScore average: 19.75\tepisode max: 39.63\n",
      "Episode: 52\tScore average: 20.11\tepisode max: 39.32\n",
      "Episode: 53\tScore average: 20.47\tepisode max: 39.58\n",
      "Episode: 54\tScore average: 20.81\tepisode max: 39.66\n",
      "Episode: 55\tScore average: 21.13\tepisode max: 39.58\n",
      "Episode: 56\tScore average: 21.46\tepisode max: 39.61\n",
      "Episode: 57\tScore average: 21.76\tepisode max: 39.61\n",
      "Episode: 58\tScore average: 22.06\tepisode max: 39.65\n",
      "Episode: 59\tScore average: 22.35\tepisode max: 39.60\n",
      "Episode: 60\tScore average: 22.63\tepisode max: 39.65\n",
      "Episode: 61\tScore average: 22.91\tepisode max: 39.62\n",
      "Episode: 62\tScore average: 23.17\tepisode max: 39.65\n",
      "Episode: 63\tScore average: 23.43\tepisode max: 39.62\n",
      "Episode: 64\tScore average: 23.67\tepisode max: 39.66\n",
      "Episode: 65\tScore average: 23.90\tepisode max: 39.60\n",
      "Episode: 66\tScore average: 24.13\tepisode max: 39.54\n",
      "Episode: 67\tScore average: 24.36\tepisode max: 39.58\n",
      "Episode: 68\tScore average: 24.57\tepisode max: 39.62\n",
      "Episode: 69\tScore average: 24.78\tepisode max: 39.63\n",
      "Episode: 70\tScore average: 24.98\tepisode max: 39.63\n",
      "Episode: 71\tScore average: 25.17\tepisode max: 39.60\n",
      "Episode: 72\tScore average: 25.36\tepisode max: 39.66\n",
      "Episode: 73\tScore average: 25.55\tepisode max: 39.65\n",
      "Episode: 74\tScore average: 25.73\tepisode max: 39.64\n",
      "Episode: 75\tScore average: 25.90\tepisode max: 39.63\n",
      "Episode: 76\tScore average: 26.07\tepisode max: 39.45\n",
      "Episode: 77\tScore average: 26.24\tepisode max: 39.66\n",
      "Episode: 78\tScore average: 26.39\tepisode max: 39.56\n",
      "Episode: 79\tScore average: 26.54\tepisode max: 39.53\n",
      "Episode: 80\tScore average: 26.70\tepisode max: 39.59\n",
      "Episode: 81\tScore average: 26.84\tepisode max: 39.58\n",
      "Episode: 82\tScore average: 27.00\tepisode max: 39.64\n",
      "Episode: 83\tScore average: 27.14\tepisode max: 39.69\n",
      "Episode: 84\tScore average: 27.28\tepisode max: 39.66\n",
      "Episode: 85\tScore average: 27.40\tepisode max: 39.62\n",
      "Episode: 86\tScore average: 27.54\tepisode max: 39.53\n",
      "Episode: 87\tScore average: 27.66\tepisode max: 39.58\n",
      "Episode: 88\tScore average: 27.79\tepisode max: 39.62\n",
      "Episode: 89\tScore average: 27.91\tepisode max: 39.61\n",
      "Episode: 90\tScore average: 28.03\tepisode max: 39.56\n",
      "Episode: 91\tScore average: 28.14\tepisode max: 39.45\n",
      "Episode: 92\tScore average: 28.25\tepisode max: 39.60\n",
      "Episode: 93\tScore average: 28.35\tepisode max: 39.57\n",
      "Episode: 94\tScore average: 28.47\tepisode max: 39.65\n",
      "Episode: 95\tScore average: 28.58\tepisode max: 39.56\n",
      "Episode: 96\tScore average: 28.67\tepisode max: 39.54\n",
      "Episode: 97\tScore average: 28.75\tepisode max: 38.62\n",
      "Episode: 98\tScore average: 28.86\tepisode max: 39.65\n",
      "Episode: 99\tScore average: 28.94\tepisode max: 39.49\n",
      "Episode: 100\tScore average: 29.03\tepisode max: 39.55\n",
      "Episode: 101\tScore average: 29.39\tepisode max: 39.57\n",
      "Episode: 102\tScore average: 29.75\tepisode max: 39.64\n",
      "Episode: 103\tScore average: 30.11\tepisode max: 39.52\n",
      "Target score reached in Episode: 104\t average score:30.11\n"
     ]
    }
   ],
   "source": [
    "scores, scores_window  = ddpg()"
   ]
  },
  {
   "cell_type": "code",
   "execution_count": 8,
   "metadata": {},
   "outputs": [
    {
     "data": {
      "text/plain": [
       "Text(0.5, 0, 'Episode #')"
      ]
     },
     "execution_count": 8,
     "metadata": {},
     "output_type": "execute_result"
    },
    {
     "data": {
      "image/png": "[encoded data removed]",
      "text/plain": [
       "<Figure size 432x288 with 1 Axes>"
      ]
     },
     "metadata": {
      "needs_background": "light"
     },
     "output_type": "display_data"
    }
   ],
   "source": [
    "fig = plt.figure()\n",
    "ax = fig.add_subplot(111)\n",
    "plt.plot(np.arange(1, len(scores_window)+1), scores_window)\n",
    "plt.ylabel('Average Score')\n",
    "plt.xlabel('Episode #')\n",
    "plt.title('Learning')"
   ]
  },
  {
   "cell_type": "markdown",
   "metadata": {},
   "source": [
    "#####   For smart agents to play"
   ]
  },
  {
   "cell_type": "code",
   "execution_count": 9,
   "metadata": {},
   "outputs": [],
   "source": [
    "agent = Agent(state_size=state_size, action_size=action_size, random_seed=1)\n",
    "agent.actor_local.load_state_dict(torch.load('07May_actor.pt'))\n",
    "agent.critic_local.load_state_dict(torch.load('07May_critic.pt'))\n",
    "\n",
    "env_info = env.reset(train_mode=False)[brain_name]     # reset the environment\n",
    "agent.reset()\n",
    "\n",
    "for t in range(1000):\n",
    "    actions = agent.act(env_info.vector_observations, add_noise=False)\n",
    "    actions = np.clip(actions, -1, 1)                  # all actions between -1 and 1\n",
    "    env_info = env.step(actions)[brain_name]\n",
    "    if np.any(env_info.local_done):\n",
    "        break \n"
   ]
  },
  {
   "cell_type": "markdown",
   "metadata": {},
   "source": [
    "Close the environment"
   ]
  },
  {
   "cell_type": "code",
   "execution_count": 10,
   "metadata": {},
   "outputs": [],
   "source": [
    "env.close()"
   ]
  }
 ],
 "metadata": {
  "kernelspec": {
   "display_name": "drlnd",
   "language": "python",
   "name": "drlnd"
  },
  "language_info": {
   "codemirror_mode": {
    "name": "ipython",
    "version": 3
   },
   "file_extension": ".py",
   "mimetype": "text/x-python",
   "name": "python",
   "nbconvert_exporter": "python",
   "pygments_lexer": "ipython3",
   "version": "3.6.10"
  }
 },
 "nbformat": 4,
 "nbformat_minor": 2
}
